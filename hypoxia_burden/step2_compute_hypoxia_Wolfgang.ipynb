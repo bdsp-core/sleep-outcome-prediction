{
 "cells": [
  {
   "cell_type": "code",
   "execution_count": 1,
   "id": "76e1e1fd-9fbb-4210-8a54-b43472a2acb4",
   "metadata": {},
   "outputs": [],
   "source": [
    "import os\n",
    "import sys\n",
    "import numpy as np\n",
    "import pandas as pd\n",
    "import datetime\n",
    "from scipy import interpolate\n",
    "from scipy.integrate import simps\n",
    "\n",
    "sys.path.insert(0, '..')\n",
    "sys.path.append('./sleep_general')\n",
    "from mgh_sleeplab import read_psg_from_bdsp, load_mgh_signal, annotations_preprocess, vectorize_respiratory_events, vectorize_sleep_stages, vectorize_arousals, vectorize_limb_movements\n",
    "from sleep_analysis_functions import compute_spo2_clean, compute_hypoxia_burden, hypoxaemic_burden_minutes\n",
    "from tqdm import tqdm"
   ]
  },
  {
   "cell_type": "code",
   "execution_count": 2,
   "id": "c5ee4ef2-e4a0-4ebb-b21f-3a4e2c984ff1",
   "metadata": {},
   "outputs": [],
   "source": [
    "# base_folder = '../project-files/bdsp-opendata-psg/data/S0001/'\n",
    "base_folder = '../project-files/PSG/data/S0001/'\n",
    "\n",
    "assert os.path.exists(base_folder)"
   ]
  },
  {
   "cell_type": "code",
   "execution_count": 3,
   "id": "06300261-9361-4dd2-b625-3e4f16d534f8",
   "metadata": {},
   "outputs": [],
   "source": [
    "if 0:\n",
    "    df = pd.read_excel('../project-files/bdsp-staging-area/wolfgang/mastersheet_outcome_deid.xlsx')\n",
    "else:\n",
    "    df = pd.read_csv('outcomes_hypoxia.csv')"
   ]
  },
  {
   "cell_type": "code",
   "execution_count": 4,
   "id": "53a405ef-f199-468e-a107-b8c49832d70f",
   "metadata": {},
   "outputs": [
    {
     "data": {
      "text/plain": [
       "all good                                                       8313\n",
       "read_psg_from_bdsp failed: len(data_folder) = 0                 319\n",
       "read_psg_from_bdsp failed: len(data_folder) = 2                  19\n",
       "NaN                                                              10\n",
       "axis 1 is out of bounds for array of dimension 1                  6\n",
       "index 5637600 is out of bounds for axis 0 with size 5637600       1\n",
       "index 2272800 is out of bounds for axis 0 with size 2272800       1\n",
       "local variable 'samples_limit' referenced before assignment       1\n",
       "index 5142400 is out of bounds for axis 0 with size 5142400       1\n",
       "cannot convert float NaN to integer                               1\n",
       "Name: hypoxia_note, dtype: int64"
      ]
     },
     "execution_count": 4,
     "metadata": {},
     "output_type": "execute_result"
    }
   ],
   "source": [
    "df.hypoxia_note.value_counts(dropna=False)"
   ]
  },
  {
   "cell_type": "code",
   "execution_count": 5,
   "id": "ad124963-1fa5-4fd0-ab5d-631960c4195b",
   "metadata": {
    "tags": []
   },
   "outputs": [
    {
     "name": "stderr",
     "output_type": "stream",
     "text": [
      "647it [00:19, 44.25it/s]"
     ]
    },
    {
     "name": "stdout",
     "output_type": "stream",
     "text": [
      "130 2056e235a5ebb6cf2f0c3c0f816078542e58baec2198d6a7ee5e0bca22413480 read_psg_from_bdsp failed: len(annotations_path) = 0\n",
      "646 cea64eff9989a69b9c84f33a13a9a2fe779339ef59cfb90c0a1935114f3bed40 read_psg_from_bdsp failed: len(annotations_path) = 0\n"
     ]
    },
    {
     "name": "stderr",
     "output_type": "stream",
     "text": [
      "3611it [00:19, 402.56it/s]"
     ]
    },
    {
     "name": "stdout",
     "output_type": "stream",
     "text": [
      "3610 9d9a9e1c5223f9781bb46288f7e697bd2dd800582cdf7bbae7e37ba26bf40fa8 read_psg_from_bdsp failed: len(annotations_path) = 0\n",
      "3689 620514a1081177747a79cb59933914f4be7645a027d96e90530d39c0e0d8e7ad read_psg_from_bdsp failed: len(annotations_path) = 0\n",
      "3763 37b81f5db1c89f133152f12ee08700b46d73a75ad81e9951505ca7a06cd0bedb read_psg_from_bdsp failed: len(annotations_path) = 0\n"
     ]
    },
    {
     "name": "stderr",
     "output_type": "stream",
     "text": [
      "4622it [00:20, 570.68it/s]"
     ]
    },
    {
     "name": "stdout",
     "output_type": "stream",
     "text": [
      "3898 c97dc33e7f3908810bb176f607dddcb127f82644f830d25848bbc04c8d961885 read_psg_from_bdsp failed: len(annotations_path) = 0\n",
      "4466 7f35717b5d72b146f2d9375f5fca63503c0f755dbb71839eb3d20bd7a0c0ffff read_psg_from_bdsp failed: len(annotations_path) = 0\n"
     ]
    },
    {
     "name": "stderr",
     "output_type": "stream",
     "text": [
      "6555it [00:20, 1102.97it/s]"
     ]
    },
    {
     "name": "stdout",
     "output_type": "stream",
     "text": [
      "5782 5a08559758897337a7160cf6974b98a427f726744c125aab68736cf9a1073d52 read_psg_from_bdsp failed: len(annotations_path) = 0\n",
      "6029 b7f94ee0aa84ef6adc9d9ef0277b822752d63ce12b0892956591b0774583958a read_psg_from_bdsp failed: len(annotations_path) = 0\n"
     ]
    },
    {
     "name": "stderr",
     "output_type": "stream",
     "text": [
      "8672it [00:20, 420.75it/s] "
     ]
    },
    {
     "name": "stdout",
     "output_type": "stream",
     "text": [
      "8074 113ccaa0468a511103862678049813577c3c1294ff2cf762f8ae96dee14d321b read_psg_from_bdsp failed: len(annotations_path) = 0\n"
     ]
    },
    {
     "name": "stderr",
     "output_type": "stream",
     "text": [
      "\n"
     ]
    }
   ],
   "source": [
    "for jloc, row in tqdm(df.iterrows()):\n",
    "    \n",
    "    try:\n",
    "\n",
    "        if pd.notna(row.hypoxia_note): continue # already done\n",
    "        \n",
    "        sid, dov = row[['HashID', 'DOVshifted']].values\n",
    "#         dov = str(dov.date()).replace('-', '')\n",
    "        assert len(dov) < 12\n",
    "        dov = str(dov).replace('-', '')\n",
    "\n",
    "        # load and prepare data\n",
    "        signal, annotations, params = read_psg_from_bdsp(sid, dov, base_folder=base_folder)\n",
    "\n",
    "        fs = int(params['Fs'])\n",
    "        signal_len = len(signal)\n",
    "\n",
    "        annotations = annotations_preprocess(annotations, fs)\n",
    "        resp = vectorize_respiratory_events(annotations, signal_len)\n",
    "        stage = vectorize_sleep_stages(annotations, signal_len)\n",
    "        arousal = vectorize_arousals(annotations, signal_len)\n",
    "        limb = vectorize_limb_movements(annotations, signal_len)\n",
    "        data = signal\n",
    "        data['apnea'] = resp\n",
    "\n",
    "        dt_start = pd.Timestamp('2000-01-01 00:00:00')\n",
    "        dt_end = dt_start + datetime.timedelta(seconds=(data.shape[0]-1) / fs)\n",
    "        pseudo_dt_index = pd.date_range(start=dt_start, end=dt_end, periods=data.shape[0])\n",
    "        data.index = pseudo_dt_index\n",
    "\n",
    "        # compute hypoxia variables\n",
    "        data = compute_spo2_clean(data, fs=fs)\n",
    "        data['spo2'] = data['spo2_clean']\n",
    "        data['apnea_binary'] = np.isin(data['apnea'],[1,2,3,4]).astype(int)\n",
    "        data['apnea_end'] = np.isin(data['apnea_binary'].diff(), [-1])\n",
    "        stage = stage[np.logical_not(pd.isna(stage))]\n",
    "        hours_sleep = sum(stage<5)/fs/3600\n",
    "        data, hypoxia_burden = compute_hypoxia_burden(data, fs, hours_sleep=hours_sleep, apnea_name='apnea')\n",
    "        T90burden, T90desaturation, T90nonspecific = hypoxaemic_burden_minutes(data['spo2'].values, fs)\n",
    "\n",
    "        df.loc[jloc, 'hypoxia_burden'] = hypoxia_burden\n",
    "        df.loc[jloc, 'hypoxia_T90'] = T90burden\n",
    "        df.loc[jloc, 'hypoxia_T90desat'] = T90desaturation\n",
    "        df.loc[jloc, 'hypoxia_T90nonspecific'] = T90nonspecific\n",
    "        df.loc[jloc, 'hypoxia_note'] = 'all good'\n",
    "        \n",
    "        df.to_csv('outcomes_hypoxia.csv', index=False)\n",
    "        \n",
    "    except Exception as e:\n",
    "        print(jloc, sid, e)\n",
    "        df.loc[jloc, 'hypoxia_note'] = e\n",
    "        continue"
   ]
  },
  {
   "cell_type": "raw",
   "id": "74ae6440-7da8-42c1-9317-47094259d8ce",
   "metadata": {},
   "source": [
    "hypoxia_burden: Hypoxic burden (Azarbarzin 10.1093/eurheartj/ehy624)\n",
    "and the following hypoxia measures (https://pubmed.ncbi.nlm.nih.gov/30590586/)\n",
    "hypoxia_T90: overall T90\n",
    "hypoxia_T90desat: desaturation-specific T90\n",
    "hypoxia_T90nonspecific: non-specific T90\n",
    "(hypoxia_T90 = hypoxia_T90desat + hypoxia_T90nonspecific)"
   ]
  },
  {
   "cell_type": "code",
   "execution_count": 5,
   "id": "9e7be1e4-f590-4be2-ad1c-81c16ded4f6d",
   "metadata": {},
   "outputs": [],
   "source": [
    "df = pd.read_csv('outcomes_hypoxia.csv')"
   ]
  },
  {
   "cell_type": "code",
   "execution_count": 6,
   "id": "1118427c-89b2-4a44-b052-c940679637cb",
   "metadata": {},
   "outputs": [
    {
     "data": {
      "text/plain": [
       "all good                                                       8313\n",
       "read_psg_from_bdsp failed: len(data_folder) = 0                 319\n",
       "read_psg_from_bdsp failed: len(data_folder) = 2                  19\n",
       "axis 1 is out of bounds for array of dimension 1                  6\n",
       "read_psg_from_bdsp failed: len(annotations_path) = 0              1\n",
       "read_psg_from_bdsp failed: len(annotations_path) = 0              1\n",
       "index 5142400 is out of bounds for axis 0 with size 5142400       1\n",
       "local variable 'samples_limit' referenced before assignment       1\n",
       "index 2272800 is out of bounds for axis 0 with size 2272800       1\n",
       "read_psg_from_bdsp failed: len(annotations_path) = 0              1\n",
       "read_psg_from_bdsp failed: len(annotations_path) = 0              1\n",
       "index 5637600 is out of bounds for axis 0 with size 5637600       1\n",
       "read_psg_from_bdsp failed: len(annotations_path) = 0              1\n",
       "read_psg_from_bdsp failed: len(annotations_path) = 0              1\n",
       "read_psg_from_bdsp failed: len(annotations_path) = 0              1\n",
       "read_psg_from_bdsp failed: len(annotations_path) = 0              1\n",
       "read_psg_from_bdsp failed: len(annotations_path) = 0              1\n",
       "read_psg_from_bdsp failed: len(annotations_path) = 0              1\n",
       "cannot convert float NaN to integer                               1\n",
       "Name: hypoxia_note, dtype: int64"
      ]
     },
     "execution_count": 6,
     "metadata": {},
     "output_type": "execute_result"
    }
   ],
   "source": [
    "df.hypoxia_note.value_counts(dropna=False)"
   ]
  },
  {
   "cell_type": "code",
   "execution_count": null,
   "id": "ca040007-c143-4b53-bd80-bbe7e0529883",
   "metadata": {},
   "outputs": [],
   "source": []
  }
 ],
 "metadata": {
  "kernelspec": {
   "display_name": "Python 3 (ipykernel)",
   "language": "python",
   "name": "python3"
  },
  "language_info": {
   "codemirror_mode": {
    "name": "ipython",
    "version": 3
   },
   "file_extension": ".py",
   "mimetype": "text/x-python",
   "name": "python",
   "nbconvert_exporter": "python",
   "pygments_lexer": "ipython3",
   "version": "3.9.6"
  }
 },
 "nbformat": 4,
 "nbformat_minor": 5
}
