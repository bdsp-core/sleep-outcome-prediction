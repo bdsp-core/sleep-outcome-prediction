{
 "cells": [
  {
   "cell_type": "code",
   "execution_count": 1,
   "id": "5a41ed6e-d0f0-4795-a41e-377e1e358e65",
   "metadata": {},
   "outputs": [
    {
     "name": "stderr",
     "output_type": "stream",
     "text": [
      "R.matlab v3.7.0 (2022-08-25 21:52:34 UTC) successfully loaded. See ?R.matlab for help.\n",
      "\n",
      "\n",
      "Attaching package: ‘R.matlab’\n",
      "\n",
      "\n",
      "The following objects are masked from ‘package:base’:\n",
      "\n",
      "    getOption, isOpen\n",
      "\n",
      "\n"
     ]
    }
   ],
   "source": [
    "#install.packages()\n",
    "library(R.matlab)\n",
    "library(survival)\n",
    "library(reticulate)\n",
    "\n",
    "base.path <- '/sbgenomics/workspace/sleep-outcome-prediction'\n",
    "source(file.path(base.path, 'Rfunctions.R'))"
   ]
  },
  {
   "cell_type": "code",
   "execution_count": 2,
   "id": "fc5138ef-c522-4758-a329-89b4977c4329",
   "metadata": {},
   "outputs": [],
   "source": [
    "model <- readRDS(file.path(base.path, 'models/model_Dementia_CoxPH_CompetingRisk.rda'))\n",
    "results <- readMat(file.path(base.path, 'models/results_Dementia_CoxPH_CompetingRisk.mat'))"
   ]
  },
  {
   "cell_type": "code",
   "execution_count": 3,
   "id": "e144445d-d0b8-49c1-9923-890a46977c98",
   "metadata": {},
   "outputs": [],
   "source": [
    "df <- read.csv(file.path(base.path, 'to_be_used_features_NREM_deid.csv'))\n",
    "idx <- 2\n",
    "df <- df[idx,]"
   ]
  },
  {
   "cell_type": "code",
   "execution_count": 4,
   "id": "15c3c6e6-34c9-460b-917d-f7a6de9f85b0",
   "metadata": {},
   "outputs": [],
   "source": [
    "cols <- unlist(results$Xmean.names)\n",
    "Xmean <- results$Xmean\n",
    "Xstd <- results$Xstd\n",
    "df[,cols] <- ( df[,cols]-t(replicate(nrow(df), Xmean)) ) / t(replicate(nrow(df), Xstd))\n",
    "\n",
    "stopifnot(sum(is.na(df))==0)"
   ]
  },
  {
   "cell_type": "code",
   "execution_count": 5,
   "id": "b2ad5768-fda6-43c7-bf6b-0f5f6661f02e",
   "metadata": {},
   "outputs": [],
   "source": [
    "pred1 <- summary(survfit(model[[1]], df))\n",
    "pred2 <- summary(survfit(model[[2]], df))\n",
    "pred3 <- summary(survfit(model[[3]], df))\n",
    "\n",
    "pred1 <- list(time=pred1$time, val=pred1$pstate, state=pred1$states)\n",
    "pred2 <- list(time=pred2$time, val=pred2$pstate, state=pred2$states)\n",
    "pred3 <- list(time=pred3$time, val=pred3$pstate, state=pred3$states)\n",
    "\n",
    "pred <- harmonize.curves2(list(pred1, pred2, pred3))\n",
    "state.idx <- which(pred$states=='event1')\n",
    "pred$val <- apply(pred$val, c(1,3,4), mean, na.rm=TRUE)[,,state.idx]"
   ]
  },
  {
   "cell_type": "code",
   "execution_count": 6,
   "id": "8030110e-a7c4-4edf-be6d-0928b9b4d2ab",
   "metadata": {},
   "outputs": [
    {
     "data": {
      "image/png": "[encoded data removed]",
      "text/plain": [
       "plot without title"
      ]
     },
     "metadata": {
      "image/png": {
       "height": 420,
       "width": 420
      }
     },
     "output_type": "display_data"
    }
   ],
   "source": [
    "plot(\n",
    "    pred$time, pred$val*100, type='l',\n",
    "    xlab='Time since baseline (year)', ylab='Cumulative Probability (%)'\n",
    ")"
   ]
  },
  {
   "cell_type": "code",
   "execution_count": null,
   "id": "66791616-bfa6-46d6-b2ce-d0fb159a0c56",
   "metadata": {},
   "outputs": [],
   "source": []
  }
 ],
 "metadata": {
  "kernelspec": {
   "display_name": "R",
   "language": "R",
   "name": "ir"
  },
  "language_info": {
   "codemirror_mode": "r",
   "file_extension": ".r",
   "mimetype": "text/x-r-source",
   "name": "R",
   "pygments_lexer": "r",
   "version": "4.1.1"
  }
 },
 "nbformat": 4,
 "nbformat_minor": 5
}
