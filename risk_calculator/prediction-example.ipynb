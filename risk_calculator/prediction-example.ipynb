{
 "cells": [
  {
   "cell_type": "markdown",
   "id": "792d3dad-a4e0-416c-a9c2-6dc5d20be679",
   "metadata": {},
   "source": [
    "# load libraries"
   ]
  },
  {
   "cell_type": "code",
   "execution_count": 2,
   "id": "a659dc57-0be5-4aba-a6f6-1414b02ab34d",
   "metadata": {},
   "outputs": [
    {
     "name": "stderr",
     "output_type": "stream",
     "text": [
      "R.matlab v3.7.0 (2022-08-25 21:52:34 UTC) successfully loaded. See ?R.matlab for help.\n",
      "\n",
      "\n",
      "Attaching package: ‘R.matlab’\n",
      "\n",
      "\n",
      "The following objects are masked from ‘package:base’:\n",
      "\n",
      "    getOption, isOpen\n",
      "\n",
      "\n"
     ]
    }
   ],
   "source": [
    "#install.packages()\n",
    "library(R.matlab)\n",
    "library(survival)\n",
    "library(reticulate)\n",
    "\n",
    "base.path <- '/home/haoqisun/Downloads/sleep-outcome-prediction/risk_calculator/'\n",
    "source(file.path(base.path, 'Rfunctions.R'))"
   ]
  },
  {
   "cell_type": "markdown",
   "id": "22db56ec-8416-4cb0-b215-bf6c1143c17b",
   "metadata": {},
   "source": [
    "# specify which outcome to predict"
   ]
  },
  {
   "cell_type": "code",
   "execution_count": 3,
   "id": "080593e3-e585-40d8-930c-ef1bc3630aae",
   "metadata": {},
   "outputs": [],
   "source": [
    "outcome <- 'Dementia'"
   ]
  },
  {
   "cell_type": "markdown",
   "id": "90c29838-99c2-4803-8144-411a6a1d775d",
   "metadata": {},
   "source": [
    "# load model"
   ]
  },
  {
   "cell_type": "code",
   "execution_count": 4,
   "id": "fc5138ef-c522-4758-a329-89b4977c4329",
   "metadata": {},
   "outputs": [],
   "source": [
    "if (outcome=='Death') {\n",
    "    model <- readRDS(file.path(base.path, sprintf('models/model_%s_CoxPH.rda', outcome)))\n",
    "} else {\n",
    "    model <- readRDS(file.path(base.path, sprintf('models/model_%s_CoxPH_CompetingRisk.rda', outcome)))\n",
    "}"
   ]
  },
  {
   "cell_type": "markdown",
   "id": "8dbfb0bd-6be5-40e3-b169-f3f7e3a50949",
   "metadata": {},
   "source": [
    "# load features"
   ]
  },
  {
   "cell_type": "code",
   "execution_count": 14,
   "id": "e144445d-d0b8-49c1-9923-890a46977c98",
   "metadata": {},
   "outputs": [],
   "source": [
    "df <- read.csv(file.path(base.path, 'MGH_features_NREM.csv'))\n",
    "idx <- 20\n",
    "df <- df[idx,]"
   ]
  },
  {
   "cell_type": "markdown",
   "id": "eaf9756c-160b-41dc-929a-7e219b23e23a",
   "metadata": {},
   "source": [
    "# z-transform features"
   ]
  },
  {
   "cell_type": "code",
   "execution_count": 15,
   "id": "15c3c6e6-34c9-460b-917d-f7a6de9f85b0",
   "metadata": {},
   "outputs": [],
   "source": [
    "preprossing.info <- read.csv(file.path(base.path, 'models', sprintf('preprocessing_%s.csv', outcome)))\n",
    "cols <- preprossing.info$Name\n",
    "Xmean <- preprossing.info$Mean\n",
    "Xstd <- preprossing.info$Std\n",
    "df[,cols] <- ( df[,cols]-t(replicate(nrow(df), Xmean)) ) / t(replicate(nrow(df), Xstd))\n",
    "stopifnot(sum(is.na(df))==0)"
   ]
  },
  {
   "cell_type": "markdown",
   "id": "c254dffb-c5e6-4cd0-aac9-74e1a28d036b",
   "metadata": {},
   "source": [
    "# predict with trained model (survival package v3.2.13 works, but v3.5.7 does not work)"
   ]
  },
  {
   "cell_type": "code",
   "execution_count": 16,
   "id": "b2ad5768-fda6-43c7-bf6b-0f5f6661f02e",
   "metadata": {},
   "outputs": [],
   "source": [
    "# the model has three elements:\n",
    "pred1 <- summary(survfit(model[[1]], df))  # predict using model trained with frontal EEG\n",
    "pred2 <- summary(survfit(model[[2]], df))  # predict using model trained with central EEG\n",
    "pred3 <- summary(survfit(model[[3]], df))  # predict using model trained with occipital EEG\n",
    "\n",
    "pred1 <- list(time=pred1$time, val=pred1$pstate, state=pred1$states)  # get the cumulative incidence curve (CIC)\n",
    "pred2 <- list(time=pred2$time, val=pred2$pstate, state=pred2$states)\n",
    "pred3 <- list(time=pred3$time, val=pred3$pstate, state=pred3$states)\n",
    "\n",
    "pred <- harmonize.curves2(list(pred1, pred2, pred3)) # take average across multiple CICs\n",
    "state.idx <- which(pred$states=='event1')\n",
    "pred$val <- apply(pred$val, c(1,3,4), mean, na.rm=TRUE)[,,state.idx]"
   ]
  },
  {
   "cell_type": "code",
   "execution_count": 17,
   "id": "8030110e-a7c4-4edf-be6d-0928b9b4d2ab",
   "metadata": {},
   "outputs": [
    {
     "data": {
      "image/png": "[encoded data removed]",
      "text/plain": [
       "plot without title"
      ]
     },
     "metadata": {
      "image/png": {
       "height": 420,
       "width": 420
      }
     },
     "output_type": "display_data"
    }
   ],
   "source": [
    "plot(\n",
    "    pred$time, pred$val*100, type='l',\n",
    "    xlab='Time since baseline (year)', ylab='Cumulative Probability (%)'\n",
    ")"
   ]
  },
  {
   "cell_type": "code",
   "execution_count": null,
   "id": "66791616-bfa6-46d6-b2ce-d0fb159a0c56",
   "metadata": {},
   "outputs": [],
   "source": []
  }
 ],
 "metadata": {
  "kernelspec": {
   "display_name": "R",
   "language": "R",
   "name": "ir"
  },
  "language_info": {
   "codemirror_mode": "r",
   "file_extension": ".r",
   "mimetype": "text/x-r-source",
   "name": "R",
   "pygments_lexer": "r",
   "version": "4.1.2"
  }
 },
 "nbformat": 4,
 "nbformat_minor": 5
}
